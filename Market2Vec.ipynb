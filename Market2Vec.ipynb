{
 "cells": [
  {
   "cell_type": "code",
   "execution_count": 4,
   "metadata": {},
   "outputs": [],
   "source": [
    "import numpy as np\n",
    "from mynn.layers.dense import dense\n",
    "from mynn.activations.sigmoid import sigmoid"
   ]
  },
  {
   "cell_type": "code",
   "execution_count": 3,
   "metadata": {},
   "outputs": [],
   "source": [
    "class AutoEncoder(object):\n",
    "    \n",
    "    def __init__(self, in_dim, out_dim):\n",
    "        self.dense1 = dense(in_dim, out_dim)\n",
    "        self.dense2 = dense(out_dim, in_dim)\n",
    "        \n",
    "    def encode(self, x):\n",
    "        return sigmoid(self.dense1(x))\n",
    "    \n",
    "    def decode(self, x):\n",
    "        return self.dense2(x)\n",
    "    \n",
    "    def __call__(self, x):\n",
    "        return self.decode(self.encode(x))\n",
    "    \n",
    "    @property\n",
    "    def parameters(self):\n",
    "        return self.dense1.parameters + self.dense2.parameters"
   ]
  },
  {
   "cell_type": "code",
   "execution_count": null,
   "metadata": {},
   "outputs": [],
   "source": [
    "def"
   ]
  }
 ],
 "metadata": {
  "kernelspec": {
   "display_name": "Python 3",
   "language": "python",
   "name": "python3"
  },
  "language_info": {
   "codemirror_mode": {
    "name": "ipython",
    "version": 3
   },
   "file_extension": ".py",
   "mimetype": "text/x-python",
   "name": "python",
   "nbconvert_exporter": "python",
   "pygments_lexer": "ipython3",
   "version": "3.6.4"
  }
 },
 "nbformat": 4,
 "nbformat_minor": 2
}
